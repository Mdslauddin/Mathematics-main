{
 "cells": [
  {
   "cell_type": "markdown",
   "id": "89fbfffa",
   "metadata": {},
   "source": [
    "# Introduction of Geometry Words\n",
    "*The words '**geometry**' comes from the Greek words '**geo**' meaning $earth$, and '**metria**', meaning $measure$*\n",
    "\n",
    "* Along with arithmetic, geometry was one of the two fields of pre-modern mathematics.*"
   ]
  },
  {
   "cell_type": "markdown",
   "id": "1aa9c022",
   "metadata": {},
   "source": [
    "# History of Geometry \n",
    "\n",
    "- *Ancient **Egyptians** used geometry principles as far back 3000 BC, using equations to approximate the area of circles among other formulas*\n",
    "\n",
    "\n",
    "\n",
    "\n",
    "\n",
    "- *Modern day geometry has made developments in a number of areas, including those that make use of the raw computing power of today's computers*\n",
    "\n",
    "\n",
    "## Geoemtric mathematician name\n",
    "\n",
    "- [pythagoars](img/pythagoras.jpg )\n",
    "- Euclid\n",
    "- Leonhard Euler\n",
    "- isaac Newton\n",
    "- Archimedes\n",
    "- Carf Friedrich Gauss\n",
    "- David Hilbert\n",
    "- Brahmagupta\n",
    "- Aryabhata\n",
    "- Srinivasa Ramanujan\n",
    "- johannes kepler\n",
    "- Bernhard Riemann\n",
    "- Thales of Miletus\n",
    "- Bhaskara (ii)\n",
    "- Eratosthenes\n",
    "- Gottfried Leibniz\n",
    "- Pierre de Fermat\n",
    "- Henri Poincare\n",
    "- Hipparchus\n",
    "- Georg Cantor\n",
    "- Diophantus\n",
    "- Paul Erods\n",
    "- Blaise Pascal\n",
    "- Alexander Grothendieck \n",
    "\n",
    "**Muslim Mathematician Works in Geometry Fields**\n",
    "\n",
    "- Al-Abbas ibn said al-jawhari\n",
    "- Thabit ibn Quraa\n",
    "- Abu'l Wafa\n",
    "- Alhazen\n",
    "- Omar khayyam\n",
    "- ibn Mada\n",
    "- Al- Khwarizmi\n",
    "- Miftah al-hisab\n",
    "- jamshid al-kashid\n",
    "- Abd al-Hamid ibn Turk\n",
    "- Sind ibn Ali\n",
    "- ismail al-jazari\n",
    "- Abu Sahl al-Quhi\n",
    "- Abu'l-Hasan al-Uqlidisi\n",
    "- Abd al-Aziz al-Qabisi\n",
    "- ibn al-Haytham\n",
    "- [Abu al-Rayhan al-Biruni](img/Abu-al-Rayhan-al-Biruni.jpg)\n"
   ]
  },
  {
   "cell_type": "markdown",
   "id": "8a1e15bf",
   "metadata": {},
   "source": [
    "# Shape of Geometry ya Dimension of Geometry \n",
    "- **2D**  **3D** **4D** **5D** **etc.**\n",
    "- **D for Dimensions**\n",
    "- *The World as we know it has three dimensions of space--- length, width and depth --- and one dimension of time. But there's the mind-bending possibility that many more dimensions exist out there. According to String theory, one of the leading physics model of the last half centruy, the universe operates with 10 dimension.*"
   ]
  },
  {
   "cell_type": "markdown",
   "id": "56205ad9",
   "metadata": {},
   "source": [
    "# Shape List of Geometry 2D and 3D\n",
    "\n",
    "## 2D Shape List\n",
    "- Circle \n",
    "- SemiCircle\n",
    "- Rectangle\n",
    "- parallegram\n",
    "- Rhombus\n",
    "- Oval\n",
    "- Trapezoid\n",
    "- Triangle\n",
    "- Square  (4 sides)\n",
    "- pentagon (5 sides)\n",
    "- Hexagon  (6 sides)\n",
    "- Heptagon  (7 sides)\n",
    "- Octagon  (8 sides)\n",
    "- Nonagon  (9 sides)\n",
    "- Decagon (10 sides)\n",
    "\n",
    "\n",
    "\n",
    "## 3D Shape List"
   ]
  },
  {
   "cell_type": "code",
   "execution_count": null,
   "id": "a81d9937",
   "metadata": {},
   "outputs": [],
   "source": []
  }
 ],
 "metadata": {
  "kernelspec": {
   "display_name": "Python 3 (ipykernel)",
   "language": "python",
   "name": "python3"
  },
  "language_info": {
   "codemirror_mode": {
    "name": "ipython",
    "version": 3
   },
   "file_extension": ".py",
   "mimetype": "text/x-python",
   "name": "python",
   "nbconvert_exporter": "python",
   "pygments_lexer": "ipython3",
   "version": "3.9.12"
  }
 },
 "nbformat": 4,
 "nbformat_minor": 5
}
