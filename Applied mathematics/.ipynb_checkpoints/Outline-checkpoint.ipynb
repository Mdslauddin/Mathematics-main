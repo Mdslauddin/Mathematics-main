{
 "cells": [
  {
   "cell_type": "markdown",
   "id": "233b06bf",
   "metadata": {},
   "source": [
    "https://www.wolframalpha.com/examples/mathematics/applied-mathematics/\n",
    "\n",
    "https://mathworld.wolfram.com/\n",
    "\n",
    "https://en.wikipedia.org/wiki/Mathematics\n",
    "\n",
    "https://dlmf.nist.gov/\n",
    "\n",
    "https://en.wikipedia.org/wiki/Computational_mathematics\n",
    "\n",
    "https://en.wikipedia.org/wiki/Applied_mathematics\n",
    "\n",
    "https://en.wikipedia.org/wiki/Category:Applied_mathematics\n",
    "\n",
    "https://en.wikipedia.org/wiki/Studies_in_Applied_Mathematics\n",
    "\n",
    "https://en.wikipedia.org/wiki/Society_for_Industrial_and_Applied_Mathematics"
   ]
  }
 ],
 "metadata": {
  "kernelspec": {
   "display_name": "Python 3 (ipykernel)",
   "language": "python",
   "name": "python3"
  },
  "language_info": {
   "codemirror_mode": {
    "name": "ipython",
    "version": 3
   },
   "file_extension": ".py",
   "mimetype": "text/x-python",
   "name": "python",
   "nbconvert_exporter": "python",
   "pygments_lexer": "ipython3",
   "version": "3.11.5"
  }
 },
 "nbformat": 4,
 "nbformat_minor": 5
}
