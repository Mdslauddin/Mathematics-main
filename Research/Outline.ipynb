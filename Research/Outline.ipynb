{
 "cells": [
  {
   "cell_type": "markdown",
   "id": "3abdeabc",
   "metadata": {},
   "source": [
    "# What is infinity\n",
    " - **Fear of infinity**\n",
    " - i.e number line \n",
    "\n",
    "# What is Zero ? \n",
    "- **Power of zeros**\n",
    "- **In the actual what is zero**"
   ]
  },
  {
   "cell_type": "code",
   "execution_count": null,
   "id": "96c4b79c",
   "metadata": {},
   "outputs": [],
   "source": []
  },
  {
   "cell_type": "markdown",
   "id": "8f543158",
   "metadata": {},
   "source": [
    "# Identification of gravitational energy \n",
    "- **types of gravitational energy**\n",
    "\n",
    "# line of cirlce width \n",
    "\n",
    "# Air sound wave "
   ]
  },
  {
   "cell_type": "code",
   "execution_count": null,
   "id": "1b76ab37",
   "metadata": {},
   "outputs": [],
   "source": []
  }
 ],
 "metadata": {
  "kernelspec": {
   "display_name": "Python 3 (ipykernel)",
   "language": "python",
   "name": "python3"
  },
  "language_info": {
   "codemirror_mode": {
    "name": "ipython",
    "version": 3
   },
   "file_extension": ".py",
   "mimetype": "text/x-python",
   "name": "python",
   "nbconvert_exporter": "python",
   "pygments_lexer": "ipython3",
   "version": "3.9.12"
  }
 },
 "nbformat": 4,
 "nbformat_minor": 5
}
